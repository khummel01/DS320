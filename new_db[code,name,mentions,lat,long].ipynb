{
 "cells": [
  {
   "cell_type": "code",
   "execution_count": 215,
   "metadata": {},
   "outputs": [],
   "source": [
    "import csv\n",
    "import requests "
   ]
  },
  {
   "cell_type": "code",
   "execution_count": 216,
   "metadata": {
    "scrolled": true
   },
   "outputs": [],
   "source": [
    "# the matrix\n",
    "\n",
    "with open('/home/faculty/millbr02/pub/un-debates-augmented-1.csv', 'r', encoding='latin-1') as f:\n",
    "    csv_iter = csv.reader(f)\n",
    "    db = []\n",
    "    for row in csv_iter:\n",
    "        db.append(row)\n",
    "\n",
    "    # complied list of country names\n",
    "    ctryNames = []\n",
    "    for entry in db[1:]:\n",
    "        if entry[4] not in ctryNames:\n",
    "            ctryNames.append(entry[4])\n",
    "\n",
    "    # creating the matrix\n",
    "    matrix = {x: {} for x in ctryNames}\n",
    "    for country in matrix:\n",
    "        matrix[country] = {x:0 for x in ctryNames}\n",
    "    \n",
    "    # populating the matrix\n",
    "    for entry in db[1:]:\n",
    "        for country in ctryNames:\n",
    "            num = entry[3].count(country)\n",
    "            othersMentioned = matrix.get(entry[4])\n",
    "            othersMentioned[country] += num"
   ]
  },
  {
   "cell_type": "code",
   "execution_count": 217,
   "metadata": {},
   "outputs": [],
   "source": [
    "# how many times each country mentioned itself and by others\n",
    "\n",
    "mentionedDict = {}\n",
    "for country in ctryNames:\n",
    "    mentionedDict[country] = 0\n",
    "    for speakingCtry in matrix:\n",
    "        if country in matrix[speakingCtry]:\n",
    "            mentionedDict[country] += matrix[speakingCtry][country]"
   ]
  },
  {
   "cell_type": "code",
   "execution_count": 218,
   "metadata": {},
   "outputs": [],
   "source": [
    "# creating a dictionary of country codes and their corresponding coordinates \n",
    "\n",
    "res = requests.get(\"https://opendata.socrata.com/api/views/mnkm-8ram/rows.json\")\n",
    "j = res.json() \n",
    "\n",
    "latLongDict = {}\n",
    "latLongCtryCodes = []\n",
    "for line in j['data']:\n",
    "    latLongDict[line[10]] = {}\n",
    "    latLongDict[line[10]]['lat'] = line[12]\n",
    "    latLongDict[line[10]]['long'] = line[13]\n",
    "    latLongCtryCodes.append(line[10])"
   ]
  },
  {
   "cell_type": "code",
   "execution_count": 219,
   "metadata": {},
   "outputs": [],
   "source": [
    "# appending latitude and longitude to each line in db\n",
    "\n",
    "for line in db[1:]:\n",
    "    code = line[2]\n",
    "    if code in latLongCtryCodes:\n",
    "        line.append(latLongDict[code]['lat'])\n",
    "        line.append(latLongDict[code]['long'])"
   ]
  },
  {
   "cell_type": "code",
   "execution_count": 220,
   "metadata": {},
   "outputs": [],
   "source": [
    "# writing out a new file, format: [code,name,mentions,latitude,longitude]\n",
    "\n",
    "with open('new_db', 'w', encoding = 'latin-1') as outFile:\n",
    "    ctryAdds = []\n",
    "    for line in db[1:]:\n",
    "        if line[2] not in ctryAdds and line[2] in latLongDict:\n",
    "            ctryAdds.append(line[2])\n",
    "            outFile.write(\"{0},{1},{2},{3},{4}\\n\".format(line[2],line[4],mentionedDict[line[4]],line[7],line[8]))\n",
    "        elif line[2] not in ctryAdds and line[2] not in latLongDict:\n",
    "            ctryAdds.append(line[2])\n",
    "            outFile.write(\"{0},{1},{2}\\n\".format(line[2],line[4],mentionedDict[line[4]])) "
   ]
  }
 ],
 "metadata": {
  "kernelspec": {
   "display_name": "Python 3",
   "language": "python",
   "name": "python3"
  },
  "language_info": {
   "codemirror_mode": {
    "name": "ipython",
    "version": 3
   },
   "file_extension": ".py",
   "mimetype": "text/x-python",
   "name": "python",
   "nbconvert_exporter": "python",
   "pygments_lexer": "ipython3",
   "version": "3.5.1"
  }
 },
 "nbformat": 4,
 "nbformat_minor": 2
}
